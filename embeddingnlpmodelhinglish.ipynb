{
 "cells": [
  {
   "cell_type": "code",
   "execution_count": 1,
   "id": "8fe5c1cb",
   "metadata": {
    "_cell_guid": "b1076dfc-b9ad-4769-8c92-a6c4dae69d19",
    "_uuid": "8f2839f25d086af736a60e9eeb907d3b93b6e0e5",
    "execution": {
     "iopub.execute_input": "2024-10-28T05:55:26.179062Z",
     "iopub.status.busy": "2024-10-28T05:55:26.178321Z",
     "iopub.status.idle": "2024-10-28T05:55:27.015879Z",
     "shell.execute_reply": "2024-10-28T05:55:27.014820Z"
    },
    "papermill": {
     "duration": 0.848785,
     "end_time": "2024-10-28T05:55:27.018260",
     "exception": false,
     "start_time": "2024-10-28T05:55:26.169475",
     "status": "completed"
    },
    "tags": []
   },
   "outputs": [
    {
     "name": "stdout",
     "output_type": "stream",
     "text": [
      "/kaggle/input/paradox-ml-challenge/sample_submission.csv\n",
      "/kaggle/input/paradox-ml-challenge/train.csv\n",
      "/kaggle/input/paradox-ml-challenge/test.csv\n"
     ]
    }
   ],
   "source": [
    "# This Python 3 environment comes with many helpful analytics libraries installed\n",
    "# It is defined by the kaggle/python Docker image: https://github.com/kaggle/docker-python\n",
    "# For example, here's several helpful packages to load\n",
    "\n",
    "import numpy as np # linear algebra\n",
    "import pandas as pd # data processing, CSV file I/O (e.g. pd.read_csv)\n",
    "\n",
    "# Input data files are available in the read-only \"../input/\" directory\n",
    "# For example, running this (by clicking run or pressing Shift+Enter) will list all files under the input directory\n",
    "\n",
    "import os\n",
    "for dirname, _, filenames in os.walk('/kaggle/input'):\n",
    "    for filename in filenames:\n",
    "        print(os.path.join(dirname, filename))\n",
    "\n",
    "# You can write up to 20GB to the current directory (/kaggle/working/) that gets preserved as output when you create a version using \"Save & Run All\" \n",
    "# You can also write temporary files to /kaggle/temp/, but they won't be saved outside of the current session"
   ]
  },
  {
   "cell_type": "code",
   "execution_count": 2,
   "id": "e9d8374f",
   "metadata": {
    "execution": {
     "iopub.execute_input": "2024-10-28T05:55:27.032014Z",
     "iopub.status.busy": "2024-10-28T05:55:27.031476Z",
     "iopub.status.idle": "2024-10-28T05:55:27.036106Z",
     "shell.execute_reply": "2024-10-28T05:55:27.035103Z"
    },
    "papermill": {
     "duration": 0.01367,
     "end_time": "2024-10-28T05:55:27.038096",
     "exception": false,
     "start_time": "2024-10-28T05:55:27.024426",
     "status": "completed"
    },
    "tags": []
   },
   "outputs": [],
   "source": [
    "# This dataset is in HInglish which is kind of mix of both. I have very simplified \n",
    "# approch. I tried it doing with tf-idf, countvectorizer but accuracy and f1_score\n",
    "# was 0.70 and 0.69 on validation set and test. And this is heavily dependent\n",
    "# on how we preprocess the text. I made a different approach which is more \n",
    "# simplified and easy to implement i used embeddings but there is two ways one i \n",
    "# had to generate using BERT ot this way using fasttext. And Obviosly BERT has \n",
    "# more accuracy but this model got me .73 accuracy and f1_score and it is very \n",
    "# fast compared to BERT.\n"
   ]
  },
  {
   "cell_type": "code",
   "execution_count": 3,
   "id": "5f9587d9",
   "metadata": {
    "execution": {
     "iopub.execute_input": "2024-10-28T05:55:27.051625Z",
     "iopub.status.busy": "2024-10-28T05:55:27.050988Z",
     "iopub.status.idle": "2024-10-28T05:55:27.539562Z",
     "shell.execute_reply": "2024-10-28T05:55:27.538449Z"
    },
    "papermill": {
     "duration": 0.498153,
     "end_time": "2024-10-28T05:55:27.542107",
     "exception": false,
     "start_time": "2024-10-28T05:55:27.043954",
     "status": "completed"
    },
    "tags": []
   },
   "outputs": [],
   "source": [
    "df=pd.read_csv(\"/kaggle/input/paradox-ml-challenge/train.csv\")"
   ]
  },
  {
   "cell_type": "code",
   "execution_count": 4,
   "id": "986e95da",
   "metadata": {
    "execution": {
     "iopub.execute_input": "2024-10-28T05:55:27.555944Z",
     "iopub.status.busy": "2024-10-28T05:55:27.555079Z",
     "iopub.status.idle": "2024-10-28T05:55:27.572509Z",
     "shell.execute_reply": "2024-10-28T05:55:27.571567Z"
    },
    "papermill": {
     "duration": 0.026593,
     "end_time": "2024-10-28T05:55:27.574706",
     "exception": false,
     "start_time": "2024-10-28T05:55:27.548113",
     "status": "completed"
    },
    "tags": []
   },
   "outputs": [
    {
     "data": {
      "text/html": [
       "<div>\n",
       "<style scoped>\n",
       "    .dataframe tbody tr th:only-of-type {\n",
       "        vertical-align: middle;\n",
       "    }\n",
       "\n",
       "    .dataframe tbody tr th {\n",
       "        vertical-align: top;\n",
       "    }\n",
       "\n",
       "    .dataframe thead th {\n",
       "        text-align: right;\n",
       "    }\n",
       "</style>\n",
       "<table border=\"1\" class=\"dataframe\">\n",
       "  <thead>\n",
       "    <tr style=\"text-align: right;\">\n",
       "      <th></th>\n",
       "      <th>Comment</th>\n",
       "      <th>Label</th>\n",
       "    </tr>\n",
       "  </thead>\n",
       "  <tbody>\n",
       "    <tr>\n",
       "      <th>0</th>\n",
       "      <td>last proof me  kaha gaya little confused about it</td>\n",
       "      <td>doubt</td>\n",
       "    </tr>\n",
       "    <tr>\n",
       "      <th>1</th>\n",
       "      <td>sir g ki value positive hogi</td>\n",
       "      <td>doubt</td>\n",
       "    </tr>\n",
       "    <tr>\n",
       "      <th>2</th>\n",
       "      <td>like the video guyssss</td>\n",
       "      <td>irrelevant</td>\n",
       "    </tr>\n",
       "    <tr>\n",
       "      <th>3</th>\n",
       "      <td>ummm sir i want see ur wife</td>\n",
       "      <td>irrelevant</td>\n",
       "    </tr>\n",
       "    <tr>\n",
       "      <th>4</th>\n",
       "      <td>physics wallah punabi mundamundi mein thusde d...</td>\n",
       "      <td>irrelevant</td>\n",
       "    </tr>\n",
       "    <tr>\n",
       "      <th>5</th>\n",
       "      <td>bhupesh</td>\n",
       "      <td>irrelevant</td>\n",
       "    </tr>\n",
       "    <tr>\n",
       "      <th>6</th>\n",
       "      <td>thx dedi</td>\n",
       "      <td>feedback</td>\n",
       "    </tr>\n",
       "    <tr>\n",
       "      <th>7</th>\n",
       "      <td>good mem thank you</td>\n",
       "      <td>feedback</td>\n",
       "    </tr>\n",
       "    <tr>\n",
       "      <th>8</th>\n",
       "      <td>sir hmko square ka center of mass wala nhi smj...</td>\n",
       "      <td>doubt</td>\n",
       "    </tr>\n",
       "    <tr>\n",
       "      <th>9</th>\n",
       "      <td>for constant pressure qcalorieducaloriewfor co...</td>\n",
       "      <td>feedback</td>\n",
       "    </tr>\n",
       "    <tr>\n",
       "      <th>10</th>\n",
       "      <td>in last question sinx ka diffentiation toh cos...</td>\n",
       "      <td>doubt</td>\n",
       "    </tr>\n",
       "    <tr>\n",
       "      <th>11</th>\n",
       "      <td>mam first time i felt this lesson so easy than...</td>\n",
       "      <td>feedback</td>\n",
       "    </tr>\n",
       "  </tbody>\n",
       "</table>\n",
       "</div>"
      ],
      "text/plain": [
       "                                              Comment       Label\n",
       "0   last proof me  kaha gaya little confused about it       doubt\n",
       "1                        sir g ki value positive hogi       doubt\n",
       "2                              like the video guyssss  irrelevant\n",
       "3                         ummm sir i want see ur wife  irrelevant\n",
       "4   physics wallah punabi mundamundi mein thusde d...  irrelevant\n",
       "5                                             bhupesh  irrelevant\n",
       "6                                            thx dedi    feedback\n",
       "7                                  good mem thank you    feedback\n",
       "8   sir hmko square ka center of mass wala nhi smj...       doubt\n",
       "9   for constant pressure qcalorieducaloriewfor co...    feedback\n",
       "10  in last question sinx ka diffentiation toh cos...       doubt\n",
       "11  mam first time i felt this lesson so easy than...    feedback"
      ]
     },
     "execution_count": 4,
     "metadata": {},
     "output_type": "execute_result"
    }
   ],
   "source": [
    "df.head(12)"
   ]
  },
  {
   "cell_type": "code",
   "execution_count": null,
   "id": "b1c46eb9",
   "metadata": {
    "papermill": {
     "duration": 0.005843,
     "end_time": "2024-10-28T05:55:27.586868",
     "exception": false,
     "start_time": "2024-10-28T05:55:27.581025",
     "status": "completed"
    },
    "tags": []
   },
   "outputs": [],
   "source": []
  },
  {
   "cell_type": "code",
   "execution_count": 5,
   "id": "9c92deac",
   "metadata": {
    "execution": {
     "iopub.execute_input": "2024-10-28T05:55:27.601505Z",
     "iopub.status.busy": "2024-10-28T05:55:27.600882Z",
     "iopub.status.idle": "2024-10-28T05:55:28.754126Z",
     "shell.execute_reply": "2024-10-28T05:55:28.752954Z"
    },
    "papermill": {
     "duration": 1.163683,
     "end_time": "2024-10-28T05:55:28.756467",
     "exception": false,
     "start_time": "2024-10-28T05:55:27.592784",
     "status": "completed"
    },
    "tags": []
   },
   "outputs": [
    {
     "name": "stdout",
     "output_type": "stream",
     "text": [
      "                                                  Comment       Label  \\\n",
      "0       last proof me  kaha gaya little confused about it       doubt   \n",
      "1                            sir g ki value positive hogi       doubt   \n",
      "2                                  like the video guyssss  irrelevant   \n",
      "3                             ummm sir i want see ur wife  irrelevant   \n",
      "4       physics wallah punabi mundamundi mein thusde d...  irrelevant   \n",
      "...                                                   ...         ...   \n",
      "213742                             superb performance sir    feedback   \n",
      "213743                                           mja aaya    feedback   \n",
      "213744                           blocks wala sum be padao    feedback   \n",
      "213745                    uminima stable umaxima unstable    feedback   \n",
      "213746  sir you and namo sir get best physics teacher ...    feedback   \n",
      "\n",
      "        Label_encoded  \n",
      "0                   0  \n",
      "1                   0  \n",
      "2                   2  \n",
      "3                   2  \n",
      "4                   2  \n",
      "...               ...  \n",
      "213742              1  \n",
      "213743              1  \n",
      "213744              1  \n",
      "213745              1  \n",
      "213746              1  \n",
      "\n",
      "[213747 rows x 3 columns]\n"
     ]
    }
   ],
   "source": [
    "from sklearn.preprocessing import LabelEncoder\n",
    "le = LabelEncoder()\n",
    "df['Label_encoded'] = le.fit_transform(df['Label'])\n",
    "# Display the encoded labels doubt = 0\n",
    "# feedback = 1\n",
    "# irrelevant = 2\n",
    "print(df)"
   ]
  },
  {
   "cell_type": "code",
   "execution_count": 6,
   "id": "89351f2a",
   "metadata": {
    "execution": {
     "iopub.execute_input": "2024-10-28T05:55:28.771190Z",
     "iopub.status.busy": "2024-10-28T05:55:28.770359Z",
     "iopub.status.idle": "2024-10-28T05:55:28.787854Z",
     "shell.execute_reply": "2024-10-28T05:55:28.786870Z"
    },
    "papermill": {
     "duration": 0.027412,
     "end_time": "2024-10-28T05:55:28.790175",
     "exception": false,
     "start_time": "2024-10-28T05:55:28.762763",
     "status": "completed"
    },
    "tags": []
   },
   "outputs": [],
   "source": [
    "df_train = df[['Comment', 'Label_encoded','Label']]"
   ]
  },
  {
   "cell_type": "code",
   "execution_count": 7,
   "id": "f6fe22c8",
   "metadata": {
    "execution": {
     "iopub.execute_input": "2024-10-28T05:55:28.804517Z",
     "iopub.status.busy": "2024-10-28T05:55:28.803885Z",
     "iopub.status.idle": "2024-10-28T05:55:40.825173Z",
     "shell.execute_reply": "2024-10-28T05:55:40.823605Z"
    },
    "papermill": {
     "duration": 12.030964,
     "end_time": "2024-10-28T05:55:40.827568",
     "exception": false,
     "start_time": "2024-10-28T05:55:28.796604",
     "status": "completed"
    },
    "tags": []
   },
   "outputs": [
    {
     "name": "stdout",
     "output_type": "stream",
     "text": [
      "Requirement already satisfied: fasttext in /opt/conda/lib/python3.10/site-packages (0.9.3)\r\n",
      "Requirement already satisfied: pybind11>=2.2 in /opt/conda/lib/python3.10/site-packages (from fasttext) (2.13.6)\r\n",
      "Requirement already satisfied: setuptools>=0.7.0 in /opt/conda/lib/python3.10/site-packages (from fasttext) (70.0.0)\r\n",
      "Requirement already satisfied: numpy in /opt/conda/lib/python3.10/site-packages (from fasttext) (1.26.4)\r\n",
      "Note: you may need to restart the kernel to use updated packages.\n"
     ]
    }
   ],
   "source": [
    "pip install fasttext"
   ]
  },
  {
   "cell_type": "code",
   "execution_count": 8,
   "id": "951b4703",
   "metadata": {
    "execution": {
     "iopub.execute_input": "2024-10-28T05:55:40.843042Z",
     "iopub.status.busy": "2024-10-28T05:55:40.842620Z",
     "iopub.status.idle": "2024-10-28T05:55:40.870703Z",
     "shell.execute_reply": "2024-10-28T05:55:40.869468Z"
    },
    "papermill": {
     "duration": 0.038646,
     "end_time": "2024-10-28T05:55:40.872765",
     "exception": false,
     "start_time": "2024-10-28T05:55:40.834119",
     "status": "completed"
    },
    "tags": []
   },
   "outputs": [
    {
     "data": {
      "text/html": [
       "<div>\n",
       "<style scoped>\n",
       "    .dataframe tbody tr th:only-of-type {\n",
       "        vertical-align: middle;\n",
       "    }\n",
       "\n",
       "    .dataframe tbody tr th {\n",
       "        vertical-align: top;\n",
       "    }\n",
       "\n",
       "    .dataframe thead th {\n",
       "        text-align: right;\n",
       "    }\n",
       "</style>\n",
       "<table border=\"1\" class=\"dataframe\">\n",
       "  <thead>\n",
       "    <tr style=\"text-align: right;\">\n",
       "      <th></th>\n",
       "      <th>Comment</th>\n",
       "    </tr>\n",
       "  </thead>\n",
       "  <tbody>\n",
       "    <tr>\n",
       "      <th>0</th>\n",
       "      <td>last proof me  kaha gaya little confused about it</td>\n",
       "    </tr>\n",
       "    <tr>\n",
       "      <th>1</th>\n",
       "      <td>sir g ki value positive hogi</td>\n",
       "    </tr>\n",
       "    <tr>\n",
       "      <th>2</th>\n",
       "      <td>like the video guyssss</td>\n",
       "    </tr>\n",
       "    <tr>\n",
       "      <th>3</th>\n",
       "      <td>ummm sir i want see ur wife</td>\n",
       "    </tr>\n",
       "    <tr>\n",
       "      <th>4</th>\n",
       "      <td>physics wallah punabi mundamundi mein thusde d...</td>\n",
       "    </tr>\n",
       "    <tr>\n",
       "      <th>...</th>\n",
       "      <td>...</td>\n",
       "    </tr>\n",
       "    <tr>\n",
       "      <th>213742</th>\n",
       "      <td>superb performance sir</td>\n",
       "    </tr>\n",
       "    <tr>\n",
       "      <th>213743</th>\n",
       "      <td>mja aaya</td>\n",
       "    </tr>\n",
       "    <tr>\n",
       "      <th>213744</th>\n",
       "      <td>blocks wala sum be padao</td>\n",
       "    </tr>\n",
       "    <tr>\n",
       "      <th>213745</th>\n",
       "      <td>uminima stable umaxima unstable</td>\n",
       "    </tr>\n",
       "    <tr>\n",
       "      <th>213746</th>\n",
       "      <td>sir you and namo sir get best physics teacher ...</td>\n",
       "    </tr>\n",
       "  </tbody>\n",
       "</table>\n",
       "<p>213747 rows × 1 columns</p>\n",
       "</div>"
      ],
      "text/plain": [
       "                                                  Comment\n",
       "0       last proof me  kaha gaya little confused about it\n",
       "1                            sir g ki value positive hogi\n",
       "2                                  like the video guyssss\n",
       "3                             ummm sir i want see ur wife\n",
       "4       physics wallah punabi mundamundi mein thusde d...\n",
       "...                                                   ...\n",
       "213742                             superb performance sir\n",
       "213743                                           mja aaya\n",
       "213744                           blocks wala sum be padao\n",
       "213745                    uminima stable umaxima unstable\n",
       "213746  sir you and namo sir get best physics teacher ...\n",
       "\n",
       "[213747 rows x 1 columns]"
      ]
     },
     "execution_count": 8,
     "metadata": {},
     "output_type": "execute_result"
    }
   ],
   "source": [
    "hinglish=df_train[['Comment']]\n",
    "hinglish"
   ]
  },
  {
   "cell_type": "code",
   "execution_count": 9,
   "id": "22722932",
   "metadata": {
    "execution": {
     "iopub.execute_input": "2024-10-28T05:55:40.888055Z",
     "iopub.status.busy": "2024-10-28T05:55:40.887665Z",
     "iopub.status.idle": "2024-10-28T05:55:41.236378Z",
     "shell.execute_reply": "2024-10-28T05:55:41.235311Z"
    },
    "papermill": {
     "duration": 0.359474,
     "end_time": "2024-10-28T05:55:41.239029",
     "exception": false,
     "start_time": "2024-10-28T05:55:40.879555",
     "status": "completed"
    },
    "tags": []
   },
   "outputs": [],
   "source": [
    "other_dataframe=pd.read_csv(\"/kaggle/input/paradox-ml-challenge/test.csv\")\n",
    "other_comments = other_dataframe['Comment'].tolist()\n",
    "\n",
    "comments = hinglish['Comment'].tolist()\n",
    "\n",
    "all_comments = comments + other_comments\n",
    "\n",
    "with open('comments.txt', 'w') as f:\n",
    "    for comment in all_comments:\n",
    "        f.write(comment + '\\n')\n",
    "\n"
   ]
  },
  {
   "cell_type": "code",
   "execution_count": 10,
   "id": "2c0eb9b8",
   "metadata": {
    "execution": {
     "iopub.execute_input": "2024-10-28T05:55:41.255700Z",
     "iopub.status.busy": "2024-10-28T05:55:41.255272Z",
     "iopub.status.idle": "2024-10-28T05:59:52.945473Z",
     "shell.execute_reply": "2024-10-28T05:59:52.944284Z"
    },
    "papermill": {
     "duration": 251.700551,
     "end_time": "2024-10-28T05:59:52.947722",
     "exception": false,
     "start_time": "2024-10-28T05:55:41.247171",
     "status": "completed"
    },
    "tags": []
   },
   "outputs": [
    {
     "name": "stderr",
     "output_type": "stream",
     "text": [
      "Read 3M words\n",
      "Number of words:  17059\n",
      "Number of labels: 0\n",
      "Progress: 100.0% words/sec/thread:   25549 lr:  0.000000 avg.loss:  2.030565 ETA:   0h 0m 0s\n"
     ]
    }
   ],
   "source": [
    "import fasttext\n",
    "model = fasttext.train_unsupervised('/kaggle/working/comments.txt', model='skipgram', dim=300,lr=0.1)\n",
    "model.save_model('hinglish_vectors.bin')\n",
    "\n",
    "\n"
   ]
  },
  {
   "cell_type": "code",
   "execution_count": 11,
   "id": "f3cd65d7",
   "metadata": {
    "execution": {
     "iopub.execute_input": "2024-10-28T05:59:53.074130Z",
     "iopub.status.busy": "2024-10-28T05:59:53.073301Z",
     "iopub.status.idle": "2024-10-28T05:59:57.145752Z",
     "shell.execute_reply": "2024-10-28T05:59:57.143886Z"
    },
    "papermill": {
     "duration": 4.138274,
     "end_time": "2024-10-28T05:59:57.148349",
     "exception": false,
     "start_time": "2024-10-28T05:59:53.010075",
     "status": "completed"
    },
    "tags": []
   },
   "outputs": [],
   "source": [
    "model = fasttext.load_model('hinglish_vectors.bin')"
   ]
  },
  {
   "cell_type": "code",
   "execution_count": 12,
   "id": "c782bf78",
   "metadata": {
    "execution": {
     "iopub.execute_input": "2024-10-28T05:59:57.294911Z",
     "iopub.status.busy": "2024-10-28T05:59:57.294413Z",
     "iopub.status.idle": "2024-10-28T05:59:57.303368Z",
     "shell.execute_reply": "2024-10-28T05:59:57.302347Z"
    },
    "papermill": {
     "duration": 0.081866,
     "end_time": "2024-10-28T05:59:57.305705",
     "exception": false,
     "start_time": "2024-10-28T05:59:57.223839",
     "status": "completed"
    },
    "tags": []
   },
   "outputs": [
    {
     "name": "stdout",
     "output_type": "stream",
     "text": [
      "Cosine Similarity between 'acha' and 'theek hai': 0.3663366\n"
     ]
    }
   ],
   "source": [
    "from numpy import dot\n",
    "from numpy.linalg import norm\n",
    "vector_1 = model.get_word_vector(\"acha\")\n",
    "vector_2 = model.get_word_vector(\"theek hai\")\n",
    "\n",
    "# Calculate cosine similarity\n",
    "cosine_similarity = dot(vector_1, vector_2) / (norm(vector_1) * norm(vector_2))\n",
    "print(\"Cosine Similarity between 'acha' and 'theek hai':\", cosine_similarity)"
   ]
  },
  {
   "cell_type": "code",
   "execution_count": 13,
   "id": "8e03853c",
   "metadata": {
    "execution": {
     "iopub.execute_input": "2024-10-28T05:59:57.454081Z",
     "iopub.status.busy": "2024-10-28T05:59:57.453665Z",
     "iopub.status.idle": "2024-10-28T05:59:57.458836Z",
     "shell.execute_reply": "2024-10-28T05:59:57.457819Z"
    },
    "papermill": {
     "duration": 0.083111,
     "end_time": "2024-10-28T05:59:57.461014",
     "exception": false,
     "start_time": "2024-10-28T05:59:57.377903",
     "status": "completed"
    },
    "tags": []
   },
   "outputs": [],
   "source": [
    "# this will get more better if we train it on more social media chats data."
   ]
  },
  {
   "cell_type": "code",
   "execution_count": 14,
   "id": "0dd4228e",
   "metadata": {
    "execution": {
     "iopub.execute_input": "2024-10-28T05:59:57.610408Z",
     "iopub.status.busy": "2024-10-28T05:59:57.609990Z",
     "iopub.status.idle": "2024-10-28T05:59:57.620439Z",
     "shell.execute_reply": "2024-10-28T05:59:57.619344Z"
    },
    "papermill": {
     "duration": 0.094028,
     "end_time": "2024-10-28T05:59:57.623167",
     "exception": false,
     "start_time": "2024-10-28T05:59:57.529139",
     "status": "completed"
    },
    "tags": []
   },
   "outputs": [
    {
     "name": "stdout",
     "output_type": "stream",
     "text": [
      "[ 2.83864960e-02 -1.76672235e-01 -3.16103280e-01  1.91389561e-01\n",
      "  2.22050073e-03  1.13228150e-01  1.09812291e-02  5.10115743e-01\n",
      " -4.53551523e-02  7.20706582e-02 -3.34939640e-03  2.45126322e-01\n",
      " -9.99861434e-02 -1.51488855e-01 -4.03385051e-02 -1.28546894e-01\n",
      "  1.65281415e-01  1.48856184e-02  7.41612315e-02  5.12613840e-02\n",
      " -2.82842785e-01 -1.11778393e-01  6.69482630e-03 -1.81044191e-01\n",
      " -1.21791877e-01 -2.53670067e-01 -4.34062164e-03 -2.10402727e-01\n",
      "  5.19620022e-03  1.79992661e-01  1.11760437e-01  1.21156119e-01\n",
      " -3.16955477e-01 -1.49755478e-01 -1.92950651e-01  9.17118415e-02\n",
      " -5.07005863e-02  9.76370797e-02  2.08969396e-02  7.08697960e-02\n",
      "  2.72915602e-01  1.83152229e-01  9.45280269e-02 -1.88271746e-01\n",
      "  2.45877072e-01  2.27623922e-03  1.13077611e-01  1.42222539e-01\n",
      " -2.17095539e-01  5.54206848e-01 -2.62521118e-01  6.83012009e-02\n",
      " -4.19822745e-02 -9.68082622e-02  1.67763084e-01  1.48728983e-02\n",
      " -2.57093519e-01 -1.75103188e-01  1.00894302e-01 -3.52440774e-02\n",
      "  2.06129193e-01 -1.63563326e-01 -8.85322392e-02  6.19497104e-03\n",
      " -3.96985978e-01 -1.61563665e-01 -3.93488519e-02  2.31485769e-01\n",
      " -4.78862166e-01  1.46141248e-02 -2.38731146e-01 -5.56028225e-02\n",
      " -2.02547424e-04 -2.10279271e-01  1.60649285e-01 -6.10109046e-02\n",
      "  4.54497218e-01 -3.02705258e-01 -2.66210169e-01 -1.28439069e-01\n",
      " -1.04676308e-02  1.52586341e-01  1.45309538e-01  1.71499446e-01\n",
      " -2.53295720e-01 -2.03570262e-01 -1.27270222e-01  1.33391812e-01\n",
      "  2.05625296e-02  2.27397993e-01  3.54564637e-01  2.23123819e-01\n",
      "  7.69622475e-02 -1.64760232e-01 -1.07672557e-01  1.99477136e-01\n",
      " -3.85245949e-01 -1.70102697e-02 -2.63712168e-01  2.25774691e-01\n",
      " -1.33842409e-01 -3.09505671e-01  2.38661647e-01  1.69292480e-01\n",
      "  2.57258892e-01 -5.65727353e-02  2.38318015e-02 -1.01725459e-02\n",
      " -3.93133402e-01  9.96581018e-02 -7.51611665e-02 -2.19073772e-01\n",
      " -2.13261962e-01 -2.35525846e-01  7.35443980e-02 -1.66264221e-01\n",
      " -2.59855330e-01  2.70898879e-01 -1.14983082e-01 -1.83112785e-01\n",
      " -1.86158016e-01  1.93077371e-01 -2.66615748e-01 -1.66524693e-01\n",
      "  2.40375400e-01  4.44025755e-01  4.03526872e-01 -1.16252489e-01\n",
      " -4.58543748e-02 -5.06627969e-02 -1.89299107e-01  7.01350272e-02\n",
      "  1.44660473e-04 -1.91973642e-01 -6.45744130e-02  3.52754354e-01\n",
      "  2.77673383e-03  3.35657835e-01  3.54841381e-01  9.63340700e-02\n",
      " -3.85364801e-01 -2.43063673e-01  1.79184660e-01 -2.08402779e-02\n",
      "  2.20880449e-01  2.22844958e-01  3.03063124e-01 -4.52952385e-02\n",
      " -5.37803471e-01  3.16556878e-02  1.15862869e-01  7.13445758e-03\n",
      " -6.10553622e-02 -3.36782366e-01 -2.44942993e-01  1.60927802e-01\n",
      "  1.31218685e-02 -1.74117401e-01 -1.48106486e-01  1.32267058e-01\n",
      " -1.26028806e-01 -7.77677819e-02  3.53003383e-01 -1.31026626e-01\n",
      "  1.34102866e-01  2.26923317e-01 -1.44219935e-01 -1.76381767e-01\n",
      " -2.49150202e-01 -8.80217701e-02  1.83862239e-01 -2.00398564e-02\n",
      " -9.24050212e-02 -1.48680404e-01 -5.18519521e-01 -1.85896382e-01\n",
      " -1.05622217e-01 -2.16756612e-01 -1.07307166e-01  1.06230900e-01\n",
      " -2.40770634e-02  1.00048304e-01  1.64754286e-01  1.74072906e-01\n",
      "  1.18637957e-01  2.27081627e-01 -4.80504483e-01 -7.51841590e-02\n",
      " -1.43940791e-01  2.03395799e-01 -3.52449715e-01  5.94215617e-02\n",
      "  1.04018845e-01  4.37503867e-02  2.24600285e-02  5.48823118e-01\n",
      "  1.96843594e-02 -2.10539758e-01 -2.07075685e-01 -2.82483757e-01\n",
      "  1.68933392e-01  9.29213129e-03 -5.98479100e-02  5.04782284e-03\n",
      " -9.59455445e-02  1.09768830e-01  4.59821075e-01 -4.42924082e-01\n",
      "  3.02564442e-01  5.29826343e-01  1.58658791e-02  1.53861910e-01\n",
      "  8.67749080e-02 -3.72472197e-01 -3.11237335e-01  5.26790857e-01\n",
      " -2.89559096e-01  3.23149413e-02 -3.60483021e-01  2.18684133e-02\n",
      "  6.36996403e-02 -5.29811904e-02  2.18049049e-01 -1.60633791e-02\n",
      "  2.62871444e-01  2.27782473e-01  7.34333992e-01 -2.05277517e-01\n",
      " -2.77753323e-01  1.26279786e-01  7.26010725e-02  4.14738283e-02\n",
      " -1.72133490e-01  2.95969635e-01 -1.77473947e-01 -4.54287976e-01\n",
      " -3.36604089e-01  6.68026149e-01  2.01330557e-01  2.57030785e-01\n",
      " -6.39988780e-02  6.31520227e-02 -1.28176883e-01 -4.86025289e-02\n",
      "  4.31112200e-02  2.94985145e-01 -3.73327620e-02  2.87699196e-02\n",
      "  3.86031300e-01  2.40201697e-01 -2.04722345e-01 -3.04091871e-01\n",
      " -1.16440170e-01  4.99972820e-01 -1.04975868e-02 -1.13065600e-01\n",
      "  2.81441033e-01 -4.43943106e-02  3.80465686e-02 -1.73281178e-01\n",
      " -1.68088391e-01 -3.47496644e-02 -1.60854265e-01  3.28321695e-01\n",
      " -6.49867952e-02  1.88361347e-01  7.51630664e-02  8.67460147e-02\n",
      " -2.50947267e-01 -2.06942886e-01  3.67364645e-01 -4.06776488e-01\n",
      " -6.84129670e-02 -4.97322045e-02 -2.61007454e-02 -3.29958111e-01\n",
      "  1.00991294e-01  7.29679838e-02  1.80752993e-01  1.23207152e-01\n",
      "  4.19575632e-01  3.34630579e-01 -2.47310400e-01 -3.50299895e-01\n",
      " -5.64548597e-02 -4.35874686e-02  8.27412233e-02 -2.52668172e-01\n",
      "  5.08449674e-01 -2.34921381e-01 -6.76979840e-01 -3.69417369e-01\n",
      "  1.83161765e-01  8.57668743e-02 -1.91679955e-01 -1.44212320e-01\n",
      "  1.34374881e-02  2.01471355e-02 -2.06222102e-01  9.41032320e-02]\n"
     ]
    }
   ],
   "source": [
    "# embedding vector\n",
    "vector = model.get_word_vector(\"acha\")\n",
    "print(vector)"
   ]
  },
  {
   "cell_type": "code",
   "execution_count": 15,
   "id": "d4c24c9e",
   "metadata": {
    "execution": {
     "iopub.execute_input": "2024-10-28T05:59:57.835973Z",
     "iopub.status.busy": "2024-10-28T05:59:57.835567Z",
     "iopub.status.idle": "2024-10-28T05:59:58.290587Z",
     "shell.execute_reply": "2024-10-28T05:59:58.289502Z"
    },
    "papermill": {
     "duration": 0.607139,
     "end_time": "2024-10-28T05:59:58.293366",
     "exception": false,
     "start_time": "2024-10-28T05:59:57.686227",
     "status": "completed"
    },
    "tags": []
   },
   "outputs": [],
   "source": [
    "import pandas as pd\n",
    "data = pd.read_csv('/kaggle/input/paradox-ml-challenge/train.csv')  \n",
    "texts = data['Comment']  \n"
   ]
  },
  {
   "cell_type": "code",
   "execution_count": 16,
   "id": "af0126cb",
   "metadata": {
    "execution": {
     "iopub.execute_input": "2024-10-28T05:59:58.444050Z",
     "iopub.status.busy": "2024-10-28T05:59:58.443639Z",
     "iopub.status.idle": "2024-10-28T06:00:43.706300Z",
     "shell.execute_reply": "2024-10-28T06:00:43.704579Z"
    },
    "papermill": {
     "duration": 45.340979,
     "end_time": "2024-10-28T06:00:43.711032",
     "exception": false,
     "start_time": "2024-10-28T05:59:58.370053",
     "status": "completed"
    },
    "tags": []
   },
   "outputs": [],
   "source": [
    "def text_to_vector(text):\n",
    "    words = text.split()  \n",
    "    vectors = [model.get_word_vector(word) for word in words]  \n",
    "    return sum(vectors) / len(vectors) if vectors else None  \n",
    "\n",
    "data['vector'] = texts.apply(text_to_vector)\n"
   ]
  },
  {
   "cell_type": "code",
   "execution_count": 17,
   "id": "1b8cd877",
   "metadata": {
    "execution": {
     "iopub.execute_input": "2024-10-28T06:00:43.843683Z",
     "iopub.status.busy": "2024-10-28T06:00:43.842726Z",
     "iopub.status.idle": "2024-10-28T06:00:44.137759Z",
     "shell.execute_reply": "2024-10-28T06:00:44.136697Z"
    },
    "papermill": {
     "duration": 0.362163,
     "end_time": "2024-10-28T06:00:44.140360",
     "exception": false,
     "start_time": "2024-10-28T06:00:43.778197",
     "status": "completed"
    },
    "tags": []
   },
   "outputs": [],
   "source": [
    "import pandas as pd\n",
    "from sklearn.model_selection import train_test_split\n",
    "from sklearn.preprocessing import LabelEncoder\n",
    "from sklearn.metrics import classification_report\n",
    "\n",
    "label_encoder = LabelEncoder()\n",
    "data['encoded_label'] = label_encoder.fit_transform(data['Label'])  \n",
    "\n",
    "X_train, X_test, y_train, y_test = train_test_split(data['vector'].tolist(), data['encoded_label'], test_size=0.2, random_state=42)\n"
   ]
  },
  {
   "cell_type": "code",
   "execution_count": 18,
   "id": "5cfae764",
   "metadata": {
    "execution": {
     "iopub.execute_input": "2024-10-28T06:00:44.270265Z",
     "iopub.status.busy": "2024-10-28T06:00:44.269431Z",
     "iopub.status.idle": "2024-10-28T06:02:04.156458Z",
     "shell.execute_reply": "2024-10-28T06:02:04.155091Z"
    },
    "papermill": {
     "duration": 80.01769,
     "end_time": "2024-10-28T06:02:04.221880",
     "exception": false,
     "start_time": "2024-10-28T06:00:44.204190",
     "status": "completed"
    },
    "tags": []
   },
   "outputs": [
    {
     "name": "stdout",
     "output_type": "stream",
     "text": [
      "F1 Score: 0.70\n",
      "Accuracy: 0.70\n"
     ]
    }
   ],
   "source": [
    "from xgboost import XGBClassifier\n",
    "from sklearn.metrics import f1_score, accuracy_score\n",
    "\n",
    "clf = XGBClassifier(objective='multi:softmax', num_class=3, n_estimators=100, learning_rate=0.1, max_depth=6, random_state=42)\n",
    "\n",
    "clf.fit(X_train, y_train)\n",
    "\n",
    "\n",
    "y_pred = clf.predict(X_test)\n",
    "f1 = f1_score(y_test, y_pred, average='weighted')\n",
    "accuracy = accuracy_score(y_test, y_pred)\n",
    "\n",
    "print(f'F1 Score: {f1:.2f}')\n",
    "print(f'Accuracy: {accuracy:.2f}')\n"
   ]
  },
  {
   "cell_type": "code",
   "execution_count": 19,
   "id": "1241f4f2",
   "metadata": {
    "execution": {
     "iopub.execute_input": "2024-10-28T06:02:04.348405Z",
     "iopub.status.busy": "2024-10-28T06:02:04.348001Z",
     "iopub.status.idle": "2024-10-28T06:02:20.577866Z",
     "shell.execute_reply": "2024-10-28T06:02:20.576331Z"
    },
    "papermill": {
     "duration": 16.296585,
     "end_time": "2024-10-28T06:02:20.580476",
     "exception": false,
     "start_time": "2024-10-28T06:02:04.283891",
     "status": "completed"
    },
    "tags": []
   },
   "outputs": [
    {
     "name": "stdout",
     "output_type": "stream",
     "text": [
      "          ID                                            Comment  \\\n",
      "0          0                            bhai  ko kiska paper ha   \n",
      "1          1                                     thank me later   \n",
      "2          2                      thankqqqqq mam for this video   \n",
      "3          3  apki teaching se physics sahi main ek visuliza...   \n",
      "4          4  i didnt understand the differentiation part co...   \n",
      "...      ...                                                ...   \n",
      "91602  91602  sir app great ho hamari help karne ke liye app...   \n",
      "91603  91603                 sir there any english batch for us   \n",
      "91604  91604  mam mene aapke channal ke video first time dek...   \n",
      "91605  91605  literally amazing session i m prepare for nda ...   \n",
      "91606  91606  machli pani me gyi chapak machali pani me gyi ...   \n",
      "\n",
      "       Predicted_Label  \n",
      "0                    2  \n",
      "1                    2  \n",
      "2                    1  \n",
      "3                    1  \n",
      "4                    0  \n",
      "...                ...  \n",
      "91602                1  \n",
      "91603                0  \n",
      "91604                1  \n",
      "91605                1  \n",
      "91606                2  \n",
      "\n",
      "[91607 rows x 3 columns]\n"
     ]
    }
   ],
   "source": [
    "df_test=pd.read_csv(\"/kaggle/input/paradox-ml-challenge/test.csv\")\n",
    "test=df_test['Comment']\n",
    "def text_to_vector(text):\n",
    "    words = text.split()  \n",
    "    vectors = [model.get_word_vector(word) for word in words]  \n",
    "    return sum(vectors) / len(vectors) if vectors else None  \n",
    "\n",
    "\n",
    "df_test['vector'] = test.apply(text_to_vector)\n",
    "okbabes=df_test['vector'].tolist()\n",
    "predictions = clf.predict(okbabes) \n",
    "\n",
    "\n",
    "results_df = pd.DataFrame({\n",
    "    'ID': df_test['ID'],\n",
    "    'Comment': df_test['Comment'],\n",
    "    'Predicted_Label': predictions\n",
    "})\n",
    "\n",
    "print(results_df)\n"
   ]
  },
  {
   "cell_type": "code",
   "execution_count": 20,
   "id": "c6a33903",
   "metadata": {
    "execution": {
     "iopub.execute_input": "2024-10-28T06:02:20.707605Z",
     "iopub.status.busy": "2024-10-28T06:02:20.707172Z",
     "iopub.status.idle": "2024-10-28T06:02:20.884498Z",
     "shell.execute_reply": "2024-10-28T06:02:20.883430Z"
    },
    "papermill": {
     "duration": 0.243497,
     "end_time": "2024-10-28T06:02:20.886853",
     "exception": false,
     "start_time": "2024-10-28T06:02:20.643356",
     "status": "completed"
    },
    "tags": []
   },
   "outputs": [
    {
     "data": {
      "text/html": [
       "<div>\n",
       "<style scoped>\n",
       "    .dataframe tbody tr th:only-of-type {\n",
       "        vertical-align: middle;\n",
       "    }\n",
       "\n",
       "    .dataframe tbody tr th {\n",
       "        vertical-align: top;\n",
       "    }\n",
       "\n",
       "    .dataframe thead th {\n",
       "        text-align: right;\n",
       "    }\n",
       "</style>\n",
       "<table border=\"1\" class=\"dataframe\">\n",
       "  <thead>\n",
       "    <tr style=\"text-align: right;\">\n",
       "      <th></th>\n",
       "      <th>ID</th>\n",
       "      <th>Comment</th>\n",
       "      <th>Label</th>\n",
       "    </tr>\n",
       "  </thead>\n",
       "  <tbody>\n",
       "    <tr>\n",
       "      <th>0</th>\n",
       "      <td>0</td>\n",
       "      <td>bhai  ko kiska paper ha</td>\n",
       "      <td>irrelevant</td>\n",
       "    </tr>\n",
       "    <tr>\n",
       "      <th>1</th>\n",
       "      <td>1</td>\n",
       "      <td>thank me later</td>\n",
       "      <td>irrelevant</td>\n",
       "    </tr>\n",
       "    <tr>\n",
       "      <th>2</th>\n",
       "      <td>2</td>\n",
       "      <td>thankqqqqq mam for this video</td>\n",
       "      <td>feedback</td>\n",
       "    </tr>\n",
       "    <tr>\n",
       "      <th>3</th>\n",
       "      <td>3</td>\n",
       "      <td>apki teaching se physics sahi main ek visuliza...</td>\n",
       "      <td>feedback</td>\n",
       "    </tr>\n",
       "    <tr>\n",
       "      <th>4</th>\n",
       "      <td>4</td>\n",
       "      <td>i didnt understand the differentiation part co...</td>\n",
       "      <td>doubt</td>\n",
       "    </tr>\n",
       "    <tr>\n",
       "      <th>...</th>\n",
       "      <td>...</td>\n",
       "      <td>...</td>\n",
       "      <td>...</td>\n",
       "    </tr>\n",
       "    <tr>\n",
       "      <th>91602</th>\n",
       "      <td>91602</td>\n",
       "      <td>sir app great ho hamari help karne ke liye app...</td>\n",
       "      <td>feedback</td>\n",
       "    </tr>\n",
       "    <tr>\n",
       "      <th>91603</th>\n",
       "      <td>91603</td>\n",
       "      <td>sir there any english batch for us</td>\n",
       "      <td>doubt</td>\n",
       "    </tr>\n",
       "    <tr>\n",
       "      <th>91604</th>\n",
       "      <td>91604</td>\n",
       "      <td>mam mene aapke channal ke video first time dek...</td>\n",
       "      <td>feedback</td>\n",
       "    </tr>\n",
       "    <tr>\n",
       "      <th>91605</th>\n",
       "      <td>91605</td>\n",
       "      <td>literally amazing session i m prepare for nda ...</td>\n",
       "      <td>feedback</td>\n",
       "    </tr>\n",
       "    <tr>\n",
       "      <th>91606</th>\n",
       "      <td>91606</td>\n",
       "      <td>machli pani me gyi chapak machali pani me gyi ...</td>\n",
       "      <td>irrelevant</td>\n",
       "    </tr>\n",
       "  </tbody>\n",
       "</table>\n",
       "<p>91607 rows × 3 columns</p>\n",
       "</div>"
      ],
      "text/plain": [
       "          ID                                            Comment       Label\n",
       "0          0                            bhai  ko kiska paper ha  irrelevant\n",
       "1          1                                     thank me later  irrelevant\n",
       "2          2                      thankqqqqq mam for this video    feedback\n",
       "3          3  apki teaching se physics sahi main ek visuliza...    feedback\n",
       "4          4  i didnt understand the differentiation part co...       doubt\n",
       "...      ...                                                ...         ...\n",
       "91602  91602  sir app great ho hamari help karne ke liye app...    feedback\n",
       "91603  91603                 sir there any english batch for us       doubt\n",
       "91604  91604  mam mene aapke channal ke video first time dek...    feedback\n",
       "91605  91605  literally amazing session i m prepare for nda ...    feedback\n",
       "91606  91606  machli pani me gyi chapak machali pani me gyi ...  irrelevant\n",
       "\n",
       "[91607 rows x 3 columns]"
      ]
     },
     "execution_count": 20,
     "metadata": {},
     "output_type": "execute_result"
    }
   ],
   "source": [
    "label_mapping = {\n",
    "    0: 'doubt',\n",
    "    1: 'feedback',\n",
    "    2: 'irrelevant'\n",
    "}\n",
    "\n",
    "predicted_labels = [label_mapping[label] for label in predictions]\n",
    "\n",
    "\n",
    "results_df = pd.DataFrame({\n",
    "    'ID': df_test['ID'],\n",
    "    'Comment': df_test['Comment'],\n",
    "    'Label': predicted_labels\n",
    "})\n",
    "\n",
    "results_df"
   ]
  },
  {
   "cell_type": "code",
   "execution_count": 21,
   "id": "1738d0e8",
   "metadata": {
    "execution": {
     "iopub.execute_input": "2024-10-28T06:02:21.013658Z",
     "iopub.status.busy": "2024-10-28T06:02:21.013108Z",
     "iopub.status.idle": "2024-10-28T06:02:21.023885Z",
     "shell.execute_reply": "2024-10-28T06:02:21.022624Z"
    },
    "papermill": {
     "duration": 0.076922,
     "end_time": "2024-10-28T06:02:21.026097",
     "exception": false,
     "start_time": "2024-10-28T06:02:20.949175",
     "status": "completed"
    },
    "tags": []
   },
   "outputs": [
    {
     "name": "stdout",
     "output_type": "stream",
     "text": [
      "          ID       Label\n",
      "0          0  irrelevant\n",
      "1          1  irrelevant\n",
      "2          2    feedback\n",
      "3          3    feedback\n",
      "4          4       doubt\n",
      "...      ...         ...\n",
      "91602  91602    feedback\n",
      "91603  91603       doubt\n",
      "91604  91604    feedback\n",
      "91605  91605    feedback\n",
      "91606  91606  irrelevant\n",
      "\n",
      "[91607 rows x 2 columns]\n"
     ]
    }
   ],
   "source": [
    "df_final = results_df[['ID', 'Label']]\n",
    "print(df_final)\n"
   ]
  },
  {
   "cell_type": "code",
   "execution_count": 22,
   "id": "8fd26ff8",
   "metadata": {
    "execution": {
     "iopub.execute_input": "2024-10-28T06:02:21.152807Z",
     "iopub.status.busy": "2024-10-28T06:02:21.152133Z",
     "iopub.status.idle": "2024-10-28T06:02:21.251257Z",
     "shell.execute_reply": "2024-10-28T06:02:21.250285Z"
    },
    "papermill": {
     "duration": 0.165111,
     "end_time": "2024-10-28T06:02:21.253731",
     "exception": false,
     "start_time": "2024-10-28T06:02:21.088620",
     "status": "completed"
    },
    "tags": []
   },
   "outputs": [],
   "source": [
    "df_final.to_csv('submission.csv',index=False)"
   ]
  },
  {
   "cell_type": "code",
   "execution_count": 23,
   "id": "f66125c7",
   "metadata": {
    "execution": {
     "iopub.execute_input": "2024-10-28T06:02:21.384719Z",
     "iopub.status.busy": "2024-10-28T06:02:21.383760Z",
     "iopub.status.idle": "2024-10-28T06:02:21.722406Z",
     "shell.execute_reply": "2024-10-28T06:02:21.721225Z"
    },
    "papermill": {
     "duration": 0.407881,
     "end_time": "2024-10-28T06:02:21.725014",
     "exception": false,
     "start_time": "2024-10-28T06:02:21.317133",
     "status": "completed"
    },
    "tags": []
   },
   "outputs": [
    {
     "name": "stdout",
     "output_type": "stream",
     "text": [
      "              precision    recall  f1-score   support\n",
      "\n",
      "       doubt       0.71      0.71      0.71     11067\n",
      "    feedback       0.70      0.75      0.73     19131\n",
      "  irrelevant       0.70      0.62      0.66     12552\n",
      "\n",
      "    accuracy                           0.70     42750\n",
      "   macro avg       0.70      0.69      0.70     42750\n",
      "weighted avg       0.70      0.70      0.70     42750\n",
      "\n"
     ]
    }
   ],
   "source": [
    "y_pred = clf.predict(X_test)\n",
    "print(classification_report(y_test, y_pred, target_names=label_encoder.classes_))"
   ]
  },
  {
   "cell_type": "code",
   "execution_count": null,
   "id": "0d95975e",
   "metadata": {
    "papermill": {
     "duration": 0.062802,
     "end_time": "2024-10-28T06:02:21.850883",
     "exception": false,
     "start_time": "2024-10-28T06:02:21.788081",
     "status": "completed"
    },
    "tags": []
   },
   "outputs": [],
   "source": []
  }
 ],
 "metadata": {
  "kaggle": {
   "accelerator": "none",
   "dataSources": [
    {
     "databundleVersionId": 9902199,
     "sourceId": 86153,
     "sourceType": "competition"
    }
   ],
   "dockerImageVersionId": 30786,
   "isGpuEnabled": false,
   "isInternetEnabled": true,
   "language": "python",
   "sourceType": "notebook"
  },
  "kernelspec": {
   "display_name": "Python 3",
   "language": "python",
   "name": "python3"
  },
  "language_info": {
   "codemirror_mode": {
    "name": "ipython",
    "version": 3
   },
   "file_extension": ".py",
   "mimetype": "text/x-python",
   "name": "python",
   "nbconvert_exporter": "python",
   "pygments_lexer": "ipython3",
   "version": "3.10.14"
  },
  "papermill": {
   "default_parameters": {},
   "duration": 419.473599,
   "end_time": "2024-10-28T06:02:23.037592",
   "environment_variables": {},
   "exception": null,
   "input_path": "__notebook__.ipynb",
   "output_path": "__notebook__.ipynb",
   "parameters": {},
   "start_time": "2024-10-28T05:55:23.563993",
   "version": "2.6.0"
  }
 },
 "nbformat": 4,
 "nbformat_minor": 5
}
